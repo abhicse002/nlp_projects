{
  "nbformat": 4,
  "nbformat_minor": 0,
  "metadata": {
    "colab": {
      "provenance": [],
      "authorship_tag": "ABX9TyNG/EFH0hynPJBSou+pgzkH",
      "include_colab_link": true
    },
    "kernelspec": {
      "name": "python3",
      "display_name": "Python 3"
    },
    "language_info": {
      "name": "python"
    }
  },
  "cells": [
    {
      "cell_type": "markdown",
      "metadata": {
        "id": "view-in-github",
        "colab_type": "text"
      },
      "source": [
        "<a href=\"https://colab.research.google.com/github/abhicse002/nlp_projects/blob/main/NLP.ipynb\" target=\"_parent\"><img src=\"https://colab.research.google.com/assets/colab-badge.svg\" alt=\"Open In Colab\"/></a>"
      ]
    },
    {
      "cell_type": "markdown",
      "source": [
        "# NLP\n",
        "- combination of Linguistic, CS, AI\n",
        "- Contextual Advertisement\n",
        "- Smart reply\n",
        "- spam filter\n",
        "- opinion mining\n",
        "- search engines\n",
        "- chatbots\n",
        "\n",
        "# Common Tasks that NLP solves\n",
        "- Text/Document Classification\n",
        "- Sentiment Analysis\n",
        "- Information Extraction\n",
        "- Parts of Speech Tagging\n",
        "- Language Detection & Machine translation\n",
        "- Conversation Agents\n",
        "- Text summarization\n",
        "- Topic modelling\n",
        "- Text Generation\n",
        "- Spell check & Grammer generation\n",
        "- Text parsing\n",
        "- Speech to Text\n",
        "\n",
        "# Approaches\n",
        "- Heuristic Approach\n",
        "  - Regex\n",
        "\n"
      ],
      "metadata": {
        "id": "wNhnEluCTOVf"
      }
    }
  ]
}