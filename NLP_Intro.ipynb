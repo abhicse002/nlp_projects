{
  "nbformat": 4,
  "nbformat_minor": 0,
  "metadata": {
    "colab": {
      "provenance": [],
      "authorship_tag": "ABX9TyPykRcQArCQyDxJMcWT2jO8",
      "include_colab_link": true
    },
    "kernelspec": {
      "name": "python3",
      "display_name": "Python 3"
    },
    "language_info": {
      "name": "python"
    }
  },
  "cells": [
    {
      "cell_type": "markdown",
      "metadata": {
        "id": "view-in-github",
        "colab_type": "text"
      },
      "source": [
        "<a href=\"https://colab.research.google.com/github/abhicse002/nlp_projects/blob/main/NLP_Intro.ipynb\" target=\"_parent\"><img src=\"https://colab.research.google.com/assets/colab-badge.svg\" alt=\"Open In Colab\"/></a>"
      ]
    },
    {
      "cell_type": "markdown",
      "source": [
        "# NLP\n",
        "- combination of Linguistic, CS, AI\n",
        "- Contextual Advertisement\n",
        "- Smart reply\n",
        "- spam filter\n",
        "- opinion mining\n",
        "- search engines\n",
        "- chatbots\n",
        "\n",
        "# Common Tasks that NLP solves\n",
        "- Text/Document Classification\n",
        "- Sentiment Analysis\n",
        "- Information Extraction\n",
        "- Parts of Speech Tagging\n",
        "- Language Detection & Machine translation\n",
        "- Conversation Agents\n",
        "- Text summarization\n",
        "- Topic modelling\n",
        "- Text Generation\n",
        "- Spell check & Grammer generation\n",
        "- Text parsing\n",
        "- Speech to Text\n",
        "\n",
        "# Approaches\n",
        "1. Heuristic Approach\n",
        "  - Regex\n",
        "  - Wordnet (lexical dictionary Ex: store different words related to a word in organised way. Ex: Shoes will have Run & Jog & walk as relational word)\n",
        "  - Open mind Common Sense (open sense)\n",
        "  - Advantages (Quick Approach, easy)\n",
        "\n",
        "\n",
        "2. Machine Learning\n",
        "- when rules cannot be formed by Humans due to huge data.\n",
        "- Algm:- Naive Bayes, Logistic Regression, SVM, LDA, Hidden Markov Models.\n",
        "- Dont bother about sequential information, so Deep learning is used.\n",
        "\n",
        "3. Deep Learning\n",
        "- Takes care of sequential information.\n",
        "- Feature Generation is done by Deep learning Model.\n",
        "- Architecture:-\n",
        "  - RNN (doesnt retain information of Long sentenses, so LSTM was introduced)\n",
        "  - LSTM\n",
        "  - GRU/CNN\n",
        "  - Transformers mostly used (Bert)\n",
        "  - Autoencoders\n",
        "\n",
        "\n",
        "# Challenges in NLP\n",
        "1. Ambiguity\n",
        "2. Contextual Words\n",
        "  - I ran out of Milk (here Ran is not actually an Action)\n",
        "3. Colloquialisms and Slang\n",
        "  - Ex: Pulling ur leg\n",
        "4. Synonyms\n",
        "5. Irony, Sarcasm & Tonal diff\n",
        "6. Spelling Errors\n",
        "7. Creativity\n",
        "8. Diff Languages\n",
        "\n",
        "\n",
        "\n"
      ],
      "metadata": {
        "id": "wNhnEluCTOVf"
      }
    }
  ]
}